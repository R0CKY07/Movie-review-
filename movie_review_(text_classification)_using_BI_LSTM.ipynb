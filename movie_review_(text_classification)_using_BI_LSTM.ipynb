{
 "cells": [
  {
   "cell_type": "code",
   "execution_count": 14,
   "metadata": {
    "id": "wGIT-1QR4lrC"
   },
   "outputs": [],
   "source": [
    "import mlflow \n",
    "import mlflow.sklearn\n",
    "import numpy as np\n",
    "from tensorflow.keras.models import Sequential\n",
    "from tensorflow.keras.preprocessing import sequence\n",
    "from tensorflow.keras.layers import Dropout\n",
    "from tensorflow.keras.layers import  Dense, Embedding, LSTM, Bidirectional"
   ]
  },
  {
   "cell_type": "markdown",
   "metadata": {
    "id": "vQQeyxF9CrW0"
   },
   "source": [
    "Importing the dataset\n",
    "\n",
    "Loading IMDB standard dataset using the Keras dataset class."
   ]
  },
  {
   "cell_type": "code",
   "execution_count": 15,
   "metadata": {
    "colab": {
     "base_uri": "https://localhost:8080/"
    },
    "id": "3cVnyz7sCejD",
    "outputId": "630c5447-552a-4e62-cd55-cc254c739cea"
   },
   "outputs": [],
   "source": [
    "from keras.datasets import imdb\n",
    "(x_train, y_train),(x_test, y_test) = imdb.load_data(num_words=10000)"
   ]
  },
  {
   "cell_type": "markdown",
   "metadata": {
    "id": "hXrWkxiGCx3L"
   },
   "source": [
    "Feature Extraction\n",
    "\n",
    "Since we have text data in x_train and x_test of having an uneven length. Our goal is to convert this text data into a numerical form in order to feed it into the model.\n",
    "\n",
    "Make the length of texts equal using padding.\n",
    "\n",
    "We are defining max_len = 200. If a sentence is having a length greater than 200 it will be trimmed off otherwise it will be padded by 0."
   ]
  },
  {
   "cell_type": "code",
   "execution_count": 16,
   "metadata": {
    "id": "8bo_28fcCuBd"
   },
   "outputs": [],
   "source": [
    "max_len = 200\n",
    "x_train = sequence.pad_sequences(x_train, maxlen=max_len)\n",
    "x_test = sequence.pad_sequences(x_test, maxlen=max_len)\n",
    "y_test = np.array(y_test)\n",
    "y_train = np.array(y_train)"
   ]
  },
  {
   "cell_type": "code",
   "execution_count": 17,
   "metadata": {
    "colab": {
     "base_uri": "https://localhost:8080/"
    },
    "id": "Rh_dTILCC47F",
    "outputId": "ffdccaa9-a915-41e7-f86c-2b0a7355a7b9"
   },
   "outputs": [
    {
     "data": {
      "text/plain": [
       "((25000, 200), (25000,))"
      ]
     },
     "execution_count": 17,
     "metadata": {},
     "output_type": "execute_result"
    }
   ],
   "source": [
    "x_train.shape, y_train.shape"
   ]
  },
  {
   "cell_type": "code",
   "execution_count": 18,
   "metadata": {
    "colab": {
     "base_uri": "https://localhost:8080/"
    },
    "id": "DDkBprx4DHFy",
    "outputId": "a8487b25-0d41-43f1-8a03-80cb768a131a"
   },
   "outputs": [
    {
     "data": {
      "text/plain": [
       "((25000, 200), (25000,))"
      ]
     },
     "execution_count": 18,
     "metadata": {},
     "output_type": "execute_result"
    }
   ],
   "source": [
    "x_test.shape, y_test.shape"
   ]
  },
  {
   "cell_type": "markdown",
   "metadata": {
    "id": "7s5tcPPvDiaR"
   },
   "source": [
    "Designing the Bi-directional LSTM \n",
    "\n",
    "\n",
    "You can either use Sequential or Functional API to create the model. here we are using Sequential API.\n",
    "\n"
   ]
  },
  {
   "cell_type": "code",
   "execution_count": 19,
   "metadata": {
    "id": "AA7iNzklDLug"
   },
   "outputs": [],
   "source": [
    "n_unique_words= 10000\n",
    "\n",
    "model = Sequential()\n",
    "model.add(Embedding(n_unique_words, 128, input_length=max_len))\n",
    "model.add(Bidirectional(LSTM(64)))\n",
    "model.add(Dropout(0.5))\n",
    "model.add(Dense(1, activation='sigmoid'))\n",
    "model.compile(loss='binary_crossentropy', optimizer='adam', metrics=['accuracy'])\n",
    "mlflow.tensorflow.autolog()"
   ]
  },
  {
   "cell_type": "markdown",
   "metadata": {
    "id": "0IAeQr0DEiT1"
   },
   "source": [
    "input_length = maxlen Since we have already made all sentences in our dataset have an equal length of 200 using pad_sequence.\n",
    "\n",
    "The Embedding layer takes n_unique_words as the size of the vocabulary in our dataset which we already declared as 10000.\n",
    "\n",
    "After the Embedding layer, we are adding Bi-directional LSTM units.\n",
    "Using sigmoid activation and then compiling the model"
   ]
  },
  {
   "cell_type": "markdown",
   "metadata": {
    "id": "uKZ-q1X6Enmb"
   },
   "source": [
    "Training the model\n",
    "\n",
    "We have prepared our dataset and model not calling the fit method to train our model."
   ]
  },
  {
   "cell_type": "code",
   "execution_count": 24,
   "metadata": {
    "colab": {
     "base_uri": "https://localhost:8080/"
    },
    "id": "-YpEyK5JDoQu",
    "outputId": "39ee8361-be12-42ff-8e8d-0fead1351393"
   },
   "outputs": [
    {
     "name": "stderr",
     "output_type": "stream",
     "text": [
      "2022/06/16 21:22:54 INFO mlflow.utils.autologging_utils: Created MLflow autologging run with ID '1c4ac1cd5fd3429e88436534dec8cdd6', which will track hyperparameters, performance metrics, model artifacts, and lineage information for the current tensorflow workflow\n"
     ]
    },
    {
     "name": "stdout",
     "output_type": "stream",
     "text": [
      "Epoch 1/3\n",
      "100/100 [==============================] - 201s 2s/step - loss: 0.1118 - accuracy: 0.9624 - val_loss: 0.3971 - val_accuracy: 0.8600\n",
      "Epoch 2/3\n",
      "100/100 [==============================] - 201s 2s/step - loss: 0.0890 - accuracy: 0.9707 - val_loss: 0.4005 - val_accuracy: 0.8508\n",
      "Epoch 3/3\n",
      "100/100 [==============================] - 196s 2s/step - loss: 0.1004 - accuracy: 0.9662 - val_loss: 0.4771 - val_accuracy: 0.8530\n"
     ]
    },
    {
     "name": "stderr",
     "output_type": "stream",
     "text": [
      "WARNING:absl:Found untraced functions such as lstm_cell_4_layer_call_fn, lstm_cell_4_layer_call_and_return_conditional_losses, lstm_cell_5_layer_call_fn, lstm_cell_5_layer_call_and_return_conditional_losses while saving (showing 4 of 4). These functions will not be directly callable after loading.\n"
     ]
    },
    {
     "name": "stdout",
     "output_type": "stream",
     "text": [
      "INFO:tensorflow:Assets written to: C:\\Users\\SAHAY_~1\\AppData\\Local\\Temp\\tmpjarabo8s\\model\\data\\model\\assets\n"
     ]
    },
    {
     "name": "stderr",
     "output_type": "stream",
     "text": [
      "INFO:tensorflow:Assets written to: C:\\Users\\SAHAY_~1\\AppData\\Local\\Temp\\tmpjarabo8s\\model\\data\\model\\assets\n",
      "2022/06/16 21:33:33 WARNING mlflow.utils.autologging_utils: Encountered unexpected error during tensorflow autologging: could not create '.\\mlruns\\0\\1c4ac1cd5fd3429e88436534dec8cdd6\\artifacts\\tensorboard_logs\\train\\events.out.tfevents.1655394774.LAPTOP-8TU7UG9P.148.5.v2': No such file or directory\n"
     ]
    },
    {
     "name": "stdout",
     "output_type": "stream",
     "text": [
      "[0.11177278310060501, 0.08896719664335251, 0.10042901337146759]\n",
      "[0.9623600244522095, 0.9707199931144714, 0.966159999370575]\n"
     ]
    }
   ],
   "source": [
    "batch_size= 250\n",
    "\n",
    "history=model.fit(x_train, y_train,\n",
    "           batch_size=batch_size,\n",
    "           epochs=3,\n",
    "           validation_data=[x_test, y_test])\n",
    "print(history.history['loss'])\n",
    "print(history.history['accuracy'])"
   ]
  },
  {
   "cell_type": "code",
   "execution_count": 25,
   "metadata": {
    "colab": {
     "base_uri": "https://localhost:8080/",
     "height": 295
    },
    "id": "OTjXSjb8EwP5",
    "outputId": "67ff5899-2247-4c14-bf65-6740b53b6b34"
   },
   "outputs": [
    {
     "data": {
      "image/png": "[encoded data removed]",
      "text/plain": [
       "<Figure size 432x288 with 1 Axes>"
      ]
     },
     "metadata": {
      "needs_background": "light"
     },
     "output_type": "display_data"
    }
   ],
   "source": [
    "from matplotlib import pyplot\n",
    "pyplot.plot(history.history['loss'])\n",
    "pyplot.plot(history.history['accuracy'])\n",
    "pyplot.title('model loss vs accuracy')\n",
    "pyplot.xlabel('epoch')\n",
    "pyplot.legend(['loss', 'accuracy'], loc='upper right')\n",
    "pyplot.show()"
   ]
  },
  {
   "cell_type": "markdown",
   "metadata": {
    "id": "5Pn0Oo2KOCtV"
   },
   "source": [
    "As you can see the accuracy line is nearly touching the one and loss is minimum very close to zero. However, you can go ahead and draw some predictions using the model."
   ]
  },
  {
   "cell_type": "code",
   "execution_count": null,
   "metadata": {
    "id": "Ucu9-eZSODH1"
   },
   "outputs": [],
   "source": [
    "!mlflow ui "
   ]
  },
  {
   "cell_type": "code",
   "execution_count": null,
   "metadata": {},
   "outputs": [],
   "source": []
  },
  {
   "cell_type": "code",
   "execution_count": null,
   "metadata": {},
   "outputs": [],
   "source": []
  },
  {
   "cell_type": "code",
   "execution_count": null,
   "metadata": {},
   "outputs": [],
   "source": []
  }
 ],
 "metadata": {
  "colab": {
   "name": " movie review (text classification) using BI-LSTM.ipynb",
   "provenance": []
  },
  "kernelspec": {
   "display_name": "Python 3 (ipykernel)",
   "language": "python",
   "name": "python3"
  },
  "language_info": {
   "codemirror_mode": {
    "name": "ipython",
    "version": 3
   },
   "file_extension": ".py",
   "mimetype": "text/x-python",
   "name": "python",
   "nbconvert_exporter": "python",
   "pygments_lexer": "ipython3",
   "version": "3.9.12"
  }
 },
 "nbformat": 4,
 "nbformat_minor": 1
}
